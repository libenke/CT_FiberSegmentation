{
 "cells": [
  {
   "cell_type": "code",
   "execution_count": 1,
   "metadata": {},
   "outputs": [],
   "source": [
    "import numpy as np\n",
    "from scipy import ndimage as ndi\n",
    "import pandas as pd\n",
    "from matplotlib import pyplot as plt\n",
    "from skimage.morphology import skeletonize_3d\n",
    "from skimage.filters import threshold_multiotsu\n",
    "from skimage.measure import label, regionprops_table\n",
    "from skimage.exposure import equalize_adapthist\n",
    "import imageio.v2 as imageio\n",
    "import glob\n",
    "import os"
   ]
  },
  {
   "attachments": {},
   "cell_type": "markdown",
   "metadata": {},
   "source": [
    "# Load Data\n",
    "change the data_dir values for the folder where tiff images stored"
   ]
  },
  {
   "cell_type": "code",
   "execution_count": 2,
   "metadata": {},
   "outputs": [
    {
     "name": "stdout",
     "output_type": "stream",
     "text": [
      "initial data dimensions: (361, 548, 364)\n",
      "tunned data dimensions: (364, 548, 361)\n",
      "CPU times: total: 2.28 s\n",
      "Wall time: 5.2 s\n"
     ]
    }
   ],
   "source": [
    "%%time\n",
    "#######################################################################\n",
    "#dir_name is the director to store all the tmp and final results \n",
    "data_dir = \"demo_data\"\n",
    "#######################################################################\n",
    "#The inital index of data is z,y,x\n",
    "imagelist = [imageio.imread(file) for file in glob.glob(os.path.join(data_dir,\"*[0-9][0-9][0-9].tif*\"))]\n",
    "data = np.array(imagelist)\n",
    "del(imagelist)\n",
    "print(\"initial data dimensions:\", data.shape)\n",
    "#change the index of data to x,y,z, and change the matrix from view to continous stored array\n",
    "data = np.ascontiguousarray(np.moveaxis(data,source=[0,2],destination=[2,0]))\n",
    "print(\"tunned data dimensions:\", data.shape)"
   ]
  },
  {
   "attachments": {},
   "cell_type": "markdown",
   "metadata": {},
   "source": [
    "# Threshold and Skeletonization"
   ]
  },
  {
   "cell_type": "code",
   "execution_count": 3,
   "metadata": {},
   "outputs": [
    {
     "name": "stdout",
     "output_type": "stream",
     "text": [
      "CPU times: total: 45.8 s\n",
      "Wall time: 45.8 s\n"
     ]
    }
   ],
   "source": [
    "%%time\n",
    "#binarization\n",
    "data = equalize_adapthist(data)\n",
    "thresholds = threshold_multiotsu(data)\n",
    "mask = ndi.binary_fill_holes((np.digitize(data, thresholds) == 2)).astype(np.uint8)\n",
    "mask = ndi.binary_opening(input=mask,structure=np.ones([3,3,3],dtype=int))"
   ]
  },
  {
   "cell_type": "code",
   "execution_count": 4,
   "metadata": {},
   "outputs": [
    {
     "name": "stdout",
     "output_type": "stream",
     "text": [
      "CPU times: total: 9.98 s\n",
      "Wall time: 10 s\n"
     ]
    }
   ],
   "source": [
    "%%time\n",
    "#skeletonization\n",
    "skeleton = skeletonize_3d(mask)\n",
    "skeleton[skeleton.nonzero()]=1"
   ]
  },
  {
   "attachments": {},
   "cell_type": "markdown",
   "metadata": {},
   "source": [
    "# Trace the fibers based on the orientation field calculated in step-1"
   ]
  },
  {
   "cell_type": "code",
   "execution_count": 5,
   "metadata": {},
   "outputs": [
    {
     "name": "stdout",
     "output_type": "stream",
     "text": [
      "cross point amounts:  25332\n",
      "CPU times: total: 4 s\n",
      "Wall time: 4 s\n"
     ]
    }
   ],
   "source": [
    "%%time\n",
    "#culculate the neibours of each points\n",
    "from skimage.morphology import cube\n",
    "neigbours = ndi.convolve(skeleton,cube(3),mode='constant',cval=0)\n",
    "print(\"cross point amounts: \",np.sum((neigbours>=4) & skeleton))"
   ]
  },
  {
   "cell_type": "code",
   "execution_count": 6,
   "metadata": {},
   "outputs": [],
   "source": [
    "#load the orientation field, calculated by step1\n",
    "px = np.load(os.path.join(data_dir,\"px.npy\"))\n",
    "py = np.load(os.path.join(data_dir,\"py.npy\"))\n",
    "pz = np.load(os.path.join(data_dir,\"pz.npy\"))\n",
    "correlation = np.load(os.path.join(data_dir,\"correlation.npy\"))"
   ]
  },
  {
   "cell_type": "code",
   "execution_count": 8,
   "metadata": {},
   "outputs": [
    {
     "name": "stdout",
     "output_type": "stream",
     "text": [
      "Already treat points amouts: 0\n",
      "Already treat points amouts: 10000\n",
      "Already treat points amouts: 20000\n",
      "CPU times: total: 4min 58s\n",
      "Wall time: 4min 59s\n"
     ]
    }
   ],
   "source": [
    "%%time\n",
    "#cut the branches based on orientation field\n",
    "for points_index,(x,y,z) in enumerate(zip(*np.where((neigbours>=4) & skeleton))):\n",
    "    if points_index%10000 == 0:\n",
    "        print(\"Already treat points amouts:\", points_index)\n",
    "    #remove the cross points in the boundery\n",
    "    if (x <= 1) | (y <= 1) | (z <= 1) | (x >= skeleton.shape[0]-2) | (y >= skeleton.shape[1]-2) | (z >= skeleton.shape[2]-2):\n",
    "        skeleton[x,y,z] == 0\n",
    "        continue\n",
    "    #recalculate the neighbors of this points\n",
    "    cube3_ref = skeleton[x-1:x+2,y-1:y+2,z-1:z+2]# numpy is default pass by fererence\n",
    "    cube3_copy = np.copy(cube3_ref)\n",
    "    cube3_copy[1,1,1] = 0\n",
    "    connectivity = np.sum(cube3_copy)\n",
    "    if connectivity <= 2:\n",
    "        continue\n",
    "    #store all the branches information in the pandas table\n",
    "    branches_df = pd.DataFrame(cube3_copy.nonzero(),index=[\"bx\",\"by\",\"bz\"]).T\n",
    "    #read the orientation information from the orientation field\n",
    "    orient_vec = np.array([px[x,y,z],py[x,y,z],pz[x,y,z]])\n",
    "    #calculate the correlations of all the branches with the orientation field\n",
    "    for ind, row in branches_df.iterrows():\n",
    "        bx = int(row[\"bx\"])\n",
    "        by = int(row[\"by\"])\n",
    "        bz = int(row[\"bz\"])\n",
    "\n",
    "        cube3_branch = np.copy(skeleton[x+bx-2:x+bx+1,y+by-2:y+by+1,z+bz-2:z+bz+1])\n",
    "        cube3_branch[1,1,1] = 0\n",
    "        cube3_branch[-bx,-by,-bz] = 0\n",
    "        #find if any mother branches point in this cube, if any, set it to zero\n",
    "        tmp_df = branches_df.loc[:,[\"bx\",\"by\",\"bz\"]]-[bx,by,bz]\n",
    "        tmp_df = tmp_df[(tmp_df[\"bx\"] >= -1) & (tmp_df[\"bx\"] <= 1) & (tmp_df[\"by\"] >= -1) & (tmp_df[\"by\"] <= 1) & (tmp_df[\"bz\"] >= -1) & (tmp_df[\"bz\"] <= 1)]\n",
    "        if len(tmp_df) > 1:\n",
    "            cube3_branch[tmp_df[\"bx\"]+1,tmp_df[\"by\"]+1,tmp_df[\"bz\"]+1] = 0\n",
    "\n",
    "        #store all the points in this branch in this numpy array, rows are (x,y,z) respectively\n",
    "        #the relative value to the center point of x,y,z\n",
    "        branch_points = np.array(cube3_branch.nonzero())\n",
    "        branch_points[0,:] += bx-2\n",
    "        branch_points[1,:] += by-2\n",
    "        branch_points[2,:] += bz-2\n",
    "        branch_points = np.c_[branch_points,[bx-1,by-1,bz-1]]\n",
    "        #calculate the orientation vector\n",
    "        orient_vec_b = np.sum(branch_points,axis=1).astype(np.float32)\n",
    "        orient_vec_b /= np.linalg.norm(orient_vec_b)\n",
    "        #update the remained 2 branches\n",
    "        branches_df.loc[ind,\"correlation\"] = np.abs(np.dot(orient_vec_b,orient_vec))\n",
    "    #sort the results by correlations,\n",
    "    branches_df = branches_df.sort_values(by = \"correlation\",ascending=False)\n",
    "    #remove all the branches with lower correlations, only kept the largest correlated two branches\n",
    "    d_df = branches_df.iloc[2:]\n",
    "    cube3_ref[d_df[\"bx\"],d_df[\"by\"],d_df[\"bz\"]] = 0"
   ]
  },
  {
   "cell_type": "code",
   "execution_count": 9,
   "metadata": {},
   "outputs": [
    {
     "name": "stdout",
     "output_type": "stream",
     "text": [
      "cross point amounts:  8\n",
      "CPU times: total: 3.19 s\n",
      "Wall time: 3.19 s\n"
     ]
    }
   ],
   "source": [
    "%%time\n",
    "#check by re-culculating the neibours of each points\n",
    "from skimage.morphology import cube\n",
    "neigbours = ndi.convolve(skeleton,cube(3),mode='constant',cval=0)\n",
    "print(\"cross point amounts: \",np.sum((neigbours>=4) & skeleton))"
   ]
  },
  {
   "attachments": {},
   "cell_type": "markdown",
   "metadata": {},
   "source": [
    "# label and calculate properties"
   ]
  },
  {
   "cell_type": "code",
   "execution_count": 10,
   "metadata": {},
   "outputs": [],
   "source": [
    "#remove small objects, and label\n",
    "from skimage.morphology import remove_small_objects, label\n",
    "skeleton_final = remove_small_objects(skeleton.astype(bool),min_size=30,connectivity=3)\n",
    "label_skeleton = label(label_image=skeleton_final, connectivity=3)\n",
    "np.save(os.path.join(data_dir,\"skeleton_final.npy\"),skeleton_final)\n"
   ]
  },
  {
   "cell_type": "code",
   "execution_count": null,
   "metadata": {},
   "outputs": [],
   "source": [
    "#visualized with napari package\n",
    "import napari\n",
    "napari.view_labels(ndi.grey_dilation(label_skeleton,size=3))"
   ]
  },
  {
   "cell_type": "code",
   "execution_count": 13,
   "metadata": {},
   "outputs": [
    {
     "name": "stdout",
     "output_type": "stream",
     "text": [
      "CPU times: total: 12.8 s\n",
      "Wall time: 12.9 s\n"
     ]
    },
    {
     "data": {
      "text/html": [
       "<div>\n",
       "<style scoped>\n",
       "    .dataframe tbody tr th:only-of-type {\n",
       "        vertical-align: middle;\n",
       "    }\n",
       "\n",
       "    .dataframe tbody tr th {\n",
       "        vertical-align: top;\n",
       "    }\n",
       "\n",
       "    .dataframe thead th {\n",
       "        text-align: right;\n",
       "    }\n",
       "</style>\n",
       "<table border=\"1\" class=\"dataframe\">\n",
       "  <thead>\n",
       "    <tr style=\"text-align: right;\">\n",
       "      <th></th>\n",
       "      <th>area</th>\n",
       "      <th>centroid-0</th>\n",
       "      <th>centroid-1</th>\n",
       "      <th>centroid-2</th>\n",
       "      <th>px</th>\n",
       "      <th>py</th>\n",
       "      <th>pz</th>\n",
       "      <th>Axx</th>\n",
       "      <th>Axy</th>\n",
       "      <th>Axz</th>\n",
       "      <th>Ayy</th>\n",
       "      <th>Ayz</th>\n",
       "      <th>Azz</th>\n",
       "    </tr>\n",
       "    <tr>\n",
       "      <th>label</th>\n",
       "      <th></th>\n",
       "      <th></th>\n",
       "      <th></th>\n",
       "      <th></th>\n",
       "      <th></th>\n",
       "      <th></th>\n",
       "      <th></th>\n",
       "      <th></th>\n",
       "      <th></th>\n",
       "      <th></th>\n",
       "      <th></th>\n",
       "      <th></th>\n",
       "      <th></th>\n",
       "    </tr>\n",
       "  </thead>\n",
       "  <tbody>\n",
       "    <tr>\n",
       "      <th>1</th>\n",
       "      <td>170</td>\n",
       "      <td>84.500000</td>\n",
       "      <td>109.894118</td>\n",
       "      <td>239.405882</td>\n",
       "      <td>0.998583</td>\n",
       "      <td>-0.052106</td>\n",
       "      <td>-0.010772</td>\n",
       "      <td>0.997169</td>\n",
       "      <td>-0.052033</td>\n",
       "      <td>-0.010757</td>\n",
       "      <td>0.002715</td>\n",
       "      <td>0.000561</td>\n",
       "      <td>0.000116</td>\n",
       "    </tr>\n",
       "    <tr>\n",
       "      <th>2</th>\n",
       "      <td>55</td>\n",
       "      <td>27.000000</td>\n",
       "      <td>167.745455</td>\n",
       "      <td>52.072727</td>\n",
       "      <td>0.925267</td>\n",
       "      <td>-0.114783</td>\n",
       "      <td>0.361534</td>\n",
       "      <td>0.856118</td>\n",
       "      <td>-0.106205</td>\n",
       "      <td>0.334515</td>\n",
       "      <td>0.013175</td>\n",
       "      <td>-0.041498</td>\n",
       "      <td>0.130707</td>\n",
       "    </tr>\n",
       "    <tr>\n",
       "      <th>3</th>\n",
       "      <td>86</td>\n",
       "      <td>42.500000</td>\n",
       "      <td>180.488372</td>\n",
       "      <td>248.500000</td>\n",
       "      <td>0.894597</td>\n",
       "      <td>0.026507</td>\n",
       "      <td>0.446087</td>\n",
       "      <td>0.800303</td>\n",
       "      <td>0.023713</td>\n",
       "      <td>0.399068</td>\n",
       "      <td>0.000703</td>\n",
       "      <td>0.011825</td>\n",
       "      <td>0.198994</td>\n",
       "    </tr>\n",
       "    <tr>\n",
       "      <th>4</th>\n",
       "      <td>30</td>\n",
       "      <td>14.500000</td>\n",
       "      <td>210.733333</td>\n",
       "      <td>327.133333</td>\n",
       "      <td>0.969459</td>\n",
       "      <td>0.244864</td>\n",
       "      <td>0.013820</td>\n",
       "      <td>0.939850</td>\n",
       "      <td>0.237386</td>\n",
       "      <td>0.013398</td>\n",
       "      <td>0.059959</td>\n",
       "      <td>0.003384</td>\n",
       "      <td>0.000191</td>\n",
       "    </tr>\n",
       "    <tr>\n",
       "      <th>5</th>\n",
       "      <td>51</td>\n",
       "      <td>24.862745</td>\n",
       "      <td>236.000000</td>\n",
       "      <td>306.196078</td>\n",
       "      <td>-0.924030</td>\n",
       "      <td>-0.301151</td>\n",
       "      <td>-0.235533</td>\n",
       "      <td>0.853832</td>\n",
       "      <td>0.278273</td>\n",
       "      <td>0.217640</td>\n",
       "      <td>0.090692</td>\n",
       "      <td>0.070931</td>\n",
       "      <td>0.055476</td>\n",
       "    </tr>\n",
       "    <tr>\n",
       "      <th>...</th>\n",
       "      <td>...</td>\n",
       "      <td>...</td>\n",
       "      <td>...</td>\n",
       "      <td>...</td>\n",
       "      <td>...</td>\n",
       "      <td>...</td>\n",
       "      <td>...</td>\n",
       "      <td>...</td>\n",
       "      <td>...</td>\n",
       "      <td>...</td>\n",
       "      <td>...</td>\n",
       "      <td>...</td>\n",
       "      <td>...</td>\n",
       "    </tr>\n",
       "    <tr>\n",
       "      <th>4668</th>\n",
       "      <td>46</td>\n",
       "      <td>360.695652</td>\n",
       "      <td>49.413043</td>\n",
       "      <td>144.500000</td>\n",
       "      <td>-0.086173</td>\n",
       "      <td>-0.032756</td>\n",
       "      <td>-0.995742</td>\n",
       "      <td>0.007426</td>\n",
       "      <td>0.002823</td>\n",
       "      <td>0.085806</td>\n",
       "      <td>0.001073</td>\n",
       "      <td>0.032617</td>\n",
       "      <td>0.991501</td>\n",
       "    </tr>\n",
       "    <tr>\n",
       "      <th>4669</th>\n",
       "      <td>120</td>\n",
       "      <td>360.050000</td>\n",
       "      <td>65.441667</td>\n",
       "      <td>141.500000</td>\n",
       "      <td>0.034740</td>\n",
       "      <td>-0.064507</td>\n",
       "      <td>0.997312</td>\n",
       "      <td>0.001207</td>\n",
       "      <td>-0.002241</td>\n",
       "      <td>0.034647</td>\n",
       "      <td>0.004161</td>\n",
       "      <td>-0.064333</td>\n",
       "      <td>0.994632</td>\n",
       "    </tr>\n",
       "    <tr>\n",
       "      <th>4670</th>\n",
       "      <td>31</td>\n",
       "      <td>360.161290</td>\n",
       "      <td>144.483871</td>\n",
       "      <td>276.000000</td>\n",
       "      <td>-0.151149</td>\n",
       "      <td>-0.107032</td>\n",
       "      <td>-0.982699</td>\n",
       "      <td>0.022846</td>\n",
       "      <td>0.016178</td>\n",
       "      <td>0.148534</td>\n",
       "      <td>0.011456</td>\n",
       "      <td>0.105181</td>\n",
       "      <td>0.965698</td>\n",
       "    </tr>\n",
       "    <tr>\n",
       "      <th>4671</th>\n",
       "      <td>40</td>\n",
       "      <td>359.050000</td>\n",
       "      <td>199.125000</td>\n",
       "      <td>313.500000</td>\n",
       "      <td>-0.038615</td>\n",
       "      <td>-0.148698</td>\n",
       "      <td>0.988128</td>\n",
       "      <td>0.001491</td>\n",
       "      <td>0.005742</td>\n",
       "      <td>-0.038156</td>\n",
       "      <td>0.022111</td>\n",
       "      <td>-0.146933</td>\n",
       "      <td>0.976398</td>\n",
       "    </tr>\n",
       "    <tr>\n",
       "      <th>4672</th>\n",
       "      <td>30</td>\n",
       "      <td>360.600000</td>\n",
       "      <td>55.433333</td>\n",
       "      <td>35.500000</td>\n",
       "      <td>-0.116215</td>\n",
       "      <td>-0.048829</td>\n",
       "      <td>-0.992023</td>\n",
       "      <td>0.013506</td>\n",
       "      <td>0.005675</td>\n",
       "      <td>0.115288</td>\n",
       "      <td>0.002384</td>\n",
       "      <td>0.048439</td>\n",
       "      <td>0.984110</td>\n",
       "    </tr>\n",
       "  </tbody>\n",
       "</table>\n",
       "<p>4672 rows × 13 columns</p>\n",
       "</div>"
      ],
      "text/plain": [
       "       area  centroid-0  centroid-1  centroid-2        px        py        pz  \\\n",
       "label                                                                           \n",
       "1       170   84.500000  109.894118  239.405882  0.998583 -0.052106 -0.010772   \n",
       "2        55   27.000000  167.745455   52.072727  0.925267 -0.114783  0.361534   \n",
       "3        86   42.500000  180.488372  248.500000  0.894597  0.026507  0.446087   \n",
       "4        30   14.500000  210.733333  327.133333  0.969459  0.244864  0.013820   \n",
       "5        51   24.862745  236.000000  306.196078 -0.924030 -0.301151 -0.235533   \n",
       "...     ...         ...         ...         ...       ...       ...       ...   \n",
       "4668     46  360.695652   49.413043  144.500000 -0.086173 -0.032756 -0.995742   \n",
       "4669    120  360.050000   65.441667  141.500000  0.034740 -0.064507  0.997312   \n",
       "4670     31  360.161290  144.483871  276.000000 -0.151149 -0.107032 -0.982699   \n",
       "4671     40  359.050000  199.125000  313.500000 -0.038615 -0.148698  0.988128   \n",
       "4672     30  360.600000   55.433333   35.500000 -0.116215 -0.048829 -0.992023   \n",
       "\n",
       "            Axx       Axy       Axz       Ayy       Ayz       Azz  \n",
       "label                                                              \n",
       "1      0.997169 -0.052033 -0.010757  0.002715  0.000561  0.000116  \n",
       "2      0.856118 -0.106205  0.334515  0.013175 -0.041498  0.130707  \n",
       "3      0.800303  0.023713  0.399068  0.000703  0.011825  0.198994  \n",
       "4      0.939850  0.237386  0.013398  0.059959  0.003384  0.000191  \n",
       "5      0.853832  0.278273  0.217640  0.090692  0.070931  0.055476  \n",
       "...         ...       ...       ...       ...       ...       ...  \n",
       "4668   0.007426  0.002823  0.085806  0.001073  0.032617  0.991501  \n",
       "4669   0.001207 -0.002241  0.034647  0.004161 -0.064333  0.994632  \n",
       "4670   0.022846  0.016178  0.148534  0.011456  0.105181  0.965698  \n",
       "4671   0.001491  0.005742 -0.038156  0.022111 -0.146933  0.976398  \n",
       "4672   0.013506  0.005675  0.115288  0.002384  0.048439  0.984110  \n",
       "\n",
       "[4672 rows x 13 columns]"
      ]
     },
     "execution_count": 13,
     "metadata": {},
     "output_type": "execute_result"
    }
   ],
   "source": [
    "%%time\n",
    "#calculate properties using pandas package\n",
    "skeleton_df = pd.DataFrame(np.array(label_skeleton.nonzero()).T,columns=[\"x\",\"y\",\"z\"])\n",
    "skeleton_df[\"label\"] = label_skeleton[skeleton_df[\"x\"],skeleton_df[\"y\"],skeleton_df[\"z\"]]\n",
    "regions_df = pd.DataFrame(regionprops_table(label_skeleton,properties=('label', 'area',\"centroid\")))\n",
    "regions_df = regions_df.set_index(\"label\")\n",
    "#skeleton_df = pd.merge(left=skeleton_df,right=regions_df,how=\"inner\",on=[\"label\"])\n",
    "#calculate orientation of individual fiber by cov ops \n",
    "cov_df = skeleton_df.groupby(by = \"label\").cov()\n",
    "for label_ind, row in regions_df.iterrows():\n",
    "    cov_mat = cov_df.loc[label_ind,:]\n",
    "    eig_value, eig_mat = np.linalg.eig(cov_mat)\n",
    "    eig_vec = eig_mat[:,np.argmax(eig_value)]\n",
    "    regions_df.loc[label_ind,\"px\"] = eig_vec[0]\n",
    "    regions_df.loc[label_ind,\"py\"] = eig_vec[1]\n",
    "    regions_df.loc[label_ind,\"pz\"] = eig_vec[2]\n",
    "#calculate the orientation tensor of glass fibers\n",
    "regions_df[\"Axx\"] = regions_df[\"px\"]**2\n",
    "regions_df[\"Axy\"] = regions_df[\"px\"]*regions_df[\"py\"]\n",
    "regions_df[\"Axz\"] = regions_df[\"px\"]*regions_df[\"pz\"]\n",
    "regions_df[\"Ayy\"] = regions_df[\"py\"]**2\n",
    "regions_df[\"Ayz\"] = regions_df[\"py\"]*regions_df[\"pz\"]\n",
    "regions_df[\"Azz\"] = regions_df[\"pz\"]**2\n",
    "#save data\n",
    "with pd.HDFStore(os.path.join(data_dir,\"DataFrame.h5\"),mode=\"a\") as store:\n",
    "    store[\"regions_df\"] = regions_df\n",
    "    store[\"skeleton_df\"] = skeleton_df\n",
    "regions_df"
   ]
  },
  {
   "cell_type": "code",
   "execution_count": 12,
   "metadata": {},
   "outputs": [
    {
     "name": "stdout",
     "output_type": "stream",
     "text": [
      "The Orientation Tensor is:\n"
     ]
    },
    {
     "data": {
      "text/plain": [
       "[[0.4468475557106242, -0.007560628929769429, -0.01970903545844713],\n",
       " [-0.007560628929769429, 0.05442863296376422, 0.015064860608150706],\n",
       " [-0.01970903545844713, 0.015064860608150706, 0.49872381132561155]]"
      ]
     },
     "execution_count": 12,
     "metadata": {},
     "output_type": "execute_result"
    }
   ],
   "source": [
    "#print average orientation tensor A\n",
    "print(\"The Orientation Tensor is:\")\n",
    "[[regions_df.Axx.mean(), regions_df.Axy.mean(), regions_df.Axz.mean()], \\\n",
    "[regions_df.Axy.mean(), regions_df.Ayy.mean(), regions_df.Ayz.mean(),], \\\n",
    "[regions_df.Axz.mean(), regions_df.Ayz.mean(), regions_df.Azz.mean()]]"
   ]
  },
  {
   "attachments": {},
   "cell_type": "markdown",
   "metadata": {},
   "source": [
    "# Done\n",
    "Furthure more: \n",
    "\n",
    "pixel wise segmentation could be applied by watershed segmentation method, with using the individual lines obtained in this step as seeds "
   ]
  },
  {
   "attachments": {},
   "cell_type": "markdown",
   "metadata": {},
   "source": []
  }
 ],
 "metadata": {
  "kernelspec": {
   "display_name": "Python 3 (ipykernel)",
   "language": "python",
   "name": "python3"
  },
  "language_info": {
   "codemirror_mode": {
    "name": "ipython",
    "version": 3
   },
   "file_extension": ".py",
   "mimetype": "text/x-python",
   "name": "python",
   "nbconvert_exporter": "python",
   "pygments_lexer": "ipython3",
   "version": "3.10.9"
  }
 },
 "nbformat": 4,
 "nbformat_minor": 4
}
